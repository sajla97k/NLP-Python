{
  "nbformat": 4,
  "nbformat_minor": 0,
  "metadata": {
    "colab": {
      "provenance": [],
      "authorship_tag": "ABX9TyOfDzOtTKYZnw8OnclwVHyN",
      "include_colab_link": true
    },
    "kernelspec": {
      "name": "python3",
      "display_name": "Python 3"
    },
    "language_info": {
      "name": "python"
    }
  },
  "cells": [
    {
      "cell_type": "markdown",
      "metadata": {
        "id": "view-in-github",
        "colab_type": "text"
      },
      "source": [
        "<a href=\"https://colab.research.google.com/github/sajla97k/NLP-Python/blob/main/text_summerization.ipynb\" target=\"_parent\"><img src=\"https://colab.research.google.com/assets/colab-badge.svg\" alt=\"Open In Colab\"/></a>"
      ]
    },
    {
      "cell_type": "code",
      "execution_count": null,
      "metadata": {
        "id": "rBY3J6vHRkJg"
      },
      "outputs": [],
      "source": [
        "# !pip instlla -U spacy\n",
        "# !python -m spacy download en_core_web_sm\n",
        "import spacy\n",
        "from spacy.lang.en.stop_words import STOP_WORDS\n",
        "from string import punctuation\n",
        "stopwords = list(STOP_WORDS)\n",
        "nlp = spacy.load('en_core_web_sm')\n"
      ]
    },
    {
      "cell_type": "code",
      "source": [
        "text=\"Peter and Elizabeth took a taxi to attend the night party in the city. While in the party, Elizabeth collapsed and was rushed to the hospital. Since she was diagnosed with\n",
        "a brain injury, the doctor told Peter to stay besides her until she gets well. Therefore, Peter stayed with her at the hospital for 3 days without leaving.\""
      ],
      "metadata": {
        "id": "rWwnMgq8TOV7"
      },
      "execution_count": null,
      "outputs": []
    },
    {
      "cell_type": "code",
      "source": [
        "doc = nlp(text)\n"
      ],
      "metadata": {
        "id": "cWr0XltcTb7r"
      },
      "execution_count": null,
      "outputs": []
    },
    {
      "cell_type": "code",
      "source": [
        "tokens = [token.text for token in doc]\n",
        "print(tokens)\n",
        "punctuation = punctuation + '\\n'\n",
        "punctuation\n",
        "word_frequencies = {}\n",
        "for word in doc:\n",
        "   if word.text.lower() not in stopwords:\n",
        "      if word.text.lower() not in punctuation:\n",
        "         if word.text not in word_frequencies.keys():\n",
        "           word_frequencies[word.text] = 1\n",
        "         else:\n",
        "              word_frequencies[word.text] += 1\n",
        "              print(word_frequencies)"
      ],
      "metadata": {
        "id": "rODfu-_sVLuQ",
        "colab": {
          "base_uri": "https://localhost:8080/"
        },
        "outputId": "53ff77ab-72c7-4391-c1db-1d16f5f94775"
      },
      "execution_count": null,
      "outputs": [
        {
          "output_type": "stream",
          "name": "stdout",
          "text": [
            "['Peter', 'and', 'Elizabeth', 'took', 'a', 'taxi', 'to', 'attend', 'the', 'night', 'party', 'in', 'the', 'city', '.', 'While', 'in', 'the', 'party', ',', 'Elizabeth', 'collapsed', 'and', 'was', 'rushed', 'to', 'the', 'hospital', '.', 'Since', 'she', 'was', 'diagnosed', 'with', 'a', 'brain', 'injury', ',', 'the', 'doctor', 'told', 'Peter', 'to', 'stay', 'besides', 'her', 'until', 'she', 'gets', 'well', '.', 'Therefore', ',', 'Peter', 'stayed', 'with', 'her', 'at', 'the', 'hospital', 'for', '3', 'days', 'without', 'leaving', '.']\n",
            "{'Peter': 1, 'Elizabeth': 1, 'took': 1, 'taxi': 1, 'attend': 1, 'night': 1, 'party': 2, 'city': 1}\n",
            "{'Peter': 1, 'Elizabeth': 2, 'took': 1, 'taxi': 1, 'attend': 1, 'night': 1, 'party': 2, 'city': 1}\n",
            "{'Peter': 2, 'Elizabeth': 2, 'took': 1, 'taxi': 1, 'attend': 1, 'night': 1, 'party': 2, 'city': 1, 'collapsed': 1, 'rushed': 1, 'hospital': 1, 'diagnosed': 1, 'brain': 1, 'injury': 1, 'doctor': 1, 'told': 1}\n",
            "{'Peter': 3, 'Elizabeth': 2, 'took': 1, 'taxi': 1, 'attend': 1, 'night': 1, 'party': 2, 'city': 1, 'collapsed': 1, 'rushed': 1, 'hospital': 1, 'diagnosed': 1, 'brain': 1, 'injury': 1, 'doctor': 1, 'told': 1, 'stay': 1, 'gets': 1}\n",
            "{'Peter': 3, 'Elizabeth': 2, 'took': 1, 'taxi': 1, 'attend': 1, 'night': 1, 'party': 2, 'city': 1, 'collapsed': 1, 'rushed': 1, 'hospital': 2, 'diagnosed': 1, 'brain': 1, 'injury': 1, 'doctor': 1, 'told': 1, 'stay': 1, 'gets': 1, 'stayed': 1}\n"
          ]
        }
      ]
    },
    {
      "cell_type": "code",
      "source": [
        "max_frequency = max(word_frequencies.values())\n",
        "max_frequency\n",
        "for word in word_frequencies.keys():\n",
        "   word_frequencies[word] = word_frequencies[word]/max_frequency\n",
        "   print(word_frequencies)\n",
        "sentence_tokens = [sent for sent in doc.sents]\n",
        "print(sentence_tokens)"
      ],
      "metadata": {
        "id": "w_x7Dh1zVRtL",
        "colab": {
          "base_uri": "https://localhost:8080/"
        },
        "outputId": "033a1342-a018-4410-d9cc-4ec654147a57"
      },
      "execution_count": null,
      "outputs": [
        {
          "output_type": "stream",
          "name": "stdout",
          "text": [
            "{'Peter': 1.0, 'Elizabeth': 1, 'took': 1, 'taxi': 1, 'attend': 1, 'night': 1, 'party': 1, 'city': 1, 'collapsed': 1, 'rushed': 1, 'hospital': 1, 'diagnosed': 1, 'brain': 1, 'injury': 1, 'doctor': 1, 'told': 1, 'stay': 1, 'gets': 1, 'stayed': 1, '3': 1, 'days': 1, 'leaving': 1}\n",
            "{'Peter': 1.0, 'Elizabeth': 1.0, 'took': 1, 'taxi': 1, 'attend': 1, 'night': 1, 'party': 1, 'city': 1, 'collapsed': 1, 'rushed': 1, 'hospital': 1, 'diagnosed': 1, 'brain': 1, 'injury': 1, 'doctor': 1, 'told': 1, 'stay': 1, 'gets': 1, 'stayed': 1, '3': 1, 'days': 1, 'leaving': 1}\n",
            "{'Peter': 1.0, 'Elizabeth': 1.0, 'took': 1.0, 'taxi': 1, 'attend': 1, 'night': 1, 'party': 1, 'city': 1, 'collapsed': 1, 'rushed': 1, 'hospital': 1, 'diagnosed': 1, 'brain': 1, 'injury': 1, 'doctor': 1, 'told': 1, 'stay': 1, 'gets': 1, 'stayed': 1, '3': 1, 'days': 1, 'leaving': 1}\n",
            "{'Peter': 1.0, 'Elizabeth': 1.0, 'took': 1.0, 'taxi': 1.0, 'attend': 1, 'night': 1, 'party': 1, 'city': 1, 'collapsed': 1, 'rushed': 1, 'hospital': 1, 'diagnosed': 1, 'brain': 1, 'injury': 1, 'doctor': 1, 'told': 1, 'stay': 1, 'gets': 1, 'stayed': 1, '3': 1, 'days': 1, 'leaving': 1}\n",
            "{'Peter': 1.0, 'Elizabeth': 1.0, 'took': 1.0, 'taxi': 1.0, 'attend': 1.0, 'night': 1, 'party': 1, 'city': 1, 'collapsed': 1, 'rushed': 1, 'hospital': 1, 'diagnosed': 1, 'brain': 1, 'injury': 1, 'doctor': 1, 'told': 1, 'stay': 1, 'gets': 1, 'stayed': 1, '3': 1, 'days': 1, 'leaving': 1}\n",
            "{'Peter': 1.0, 'Elizabeth': 1.0, 'took': 1.0, 'taxi': 1.0, 'attend': 1.0, 'night': 1.0, 'party': 1, 'city': 1, 'collapsed': 1, 'rushed': 1, 'hospital': 1, 'diagnosed': 1, 'brain': 1, 'injury': 1, 'doctor': 1, 'told': 1, 'stay': 1, 'gets': 1, 'stayed': 1, '3': 1, 'days': 1, 'leaving': 1}\n",
            "{'Peter': 1.0, 'Elizabeth': 1.0, 'took': 1.0, 'taxi': 1.0, 'attend': 1.0, 'night': 1.0, 'party': 1.0, 'city': 1, 'collapsed': 1, 'rushed': 1, 'hospital': 1, 'diagnosed': 1, 'brain': 1, 'injury': 1, 'doctor': 1, 'told': 1, 'stay': 1, 'gets': 1, 'stayed': 1, '3': 1, 'days': 1, 'leaving': 1}\n",
            "{'Peter': 1.0, 'Elizabeth': 1.0, 'took': 1.0, 'taxi': 1.0, 'attend': 1.0, 'night': 1.0, 'party': 1.0, 'city': 1.0, 'collapsed': 1, 'rushed': 1, 'hospital': 1, 'diagnosed': 1, 'brain': 1, 'injury': 1, 'doctor': 1, 'told': 1, 'stay': 1, 'gets': 1, 'stayed': 1, '3': 1, 'days': 1, 'leaving': 1}\n",
            "{'Peter': 1.0, 'Elizabeth': 1.0, 'took': 1.0, 'taxi': 1.0, 'attend': 1.0, 'night': 1.0, 'party': 1.0, 'city': 1.0, 'collapsed': 1.0, 'rushed': 1, 'hospital': 1, 'diagnosed': 1, 'brain': 1, 'injury': 1, 'doctor': 1, 'told': 1, 'stay': 1, 'gets': 1, 'stayed': 1, '3': 1, 'days': 1, 'leaving': 1}\n",
            "{'Peter': 1.0, 'Elizabeth': 1.0, 'took': 1.0, 'taxi': 1.0, 'attend': 1.0, 'night': 1.0, 'party': 1.0, 'city': 1.0, 'collapsed': 1.0, 'rushed': 1.0, 'hospital': 1, 'diagnosed': 1, 'brain': 1, 'injury': 1, 'doctor': 1, 'told': 1, 'stay': 1, 'gets': 1, 'stayed': 1, '3': 1, 'days': 1, 'leaving': 1}\n",
            "{'Peter': 1.0, 'Elizabeth': 1.0, 'took': 1.0, 'taxi': 1.0, 'attend': 1.0, 'night': 1.0, 'party': 1.0, 'city': 1.0, 'collapsed': 1.0, 'rushed': 1.0, 'hospital': 1.0, 'diagnosed': 1, 'brain': 1, 'injury': 1, 'doctor': 1, 'told': 1, 'stay': 1, 'gets': 1, 'stayed': 1, '3': 1, 'days': 1, 'leaving': 1}\n",
            "{'Peter': 1.0, 'Elizabeth': 1.0, 'took': 1.0, 'taxi': 1.0, 'attend': 1.0, 'night': 1.0, 'party': 1.0, 'city': 1.0, 'collapsed': 1.0, 'rushed': 1.0, 'hospital': 1.0, 'diagnosed': 1.0, 'brain': 1, 'injury': 1, 'doctor': 1, 'told': 1, 'stay': 1, 'gets': 1, 'stayed': 1, '3': 1, 'days': 1, 'leaving': 1}\n",
            "{'Peter': 1.0, 'Elizabeth': 1.0, 'took': 1.0, 'taxi': 1.0, 'attend': 1.0, 'night': 1.0, 'party': 1.0, 'city': 1.0, 'collapsed': 1.0, 'rushed': 1.0, 'hospital': 1.0, 'diagnosed': 1.0, 'brain': 1.0, 'injury': 1, 'doctor': 1, 'told': 1, 'stay': 1, 'gets': 1, 'stayed': 1, '3': 1, 'days': 1, 'leaving': 1}\n",
            "{'Peter': 1.0, 'Elizabeth': 1.0, 'took': 1.0, 'taxi': 1.0, 'attend': 1.0, 'night': 1.0, 'party': 1.0, 'city': 1.0, 'collapsed': 1.0, 'rushed': 1.0, 'hospital': 1.0, 'diagnosed': 1.0, 'brain': 1.0, 'injury': 1.0, 'doctor': 1, 'told': 1, 'stay': 1, 'gets': 1, 'stayed': 1, '3': 1, 'days': 1, 'leaving': 1}\n",
            "{'Peter': 1.0, 'Elizabeth': 1.0, 'took': 1.0, 'taxi': 1.0, 'attend': 1.0, 'night': 1.0, 'party': 1.0, 'city': 1.0, 'collapsed': 1.0, 'rushed': 1.0, 'hospital': 1.0, 'diagnosed': 1.0, 'brain': 1.0, 'injury': 1.0, 'doctor': 1.0, 'told': 1, 'stay': 1, 'gets': 1, 'stayed': 1, '3': 1, 'days': 1, 'leaving': 1}\n",
            "{'Peter': 1.0, 'Elizabeth': 1.0, 'took': 1.0, 'taxi': 1.0, 'attend': 1.0, 'night': 1.0, 'party': 1.0, 'city': 1.0, 'collapsed': 1.0, 'rushed': 1.0, 'hospital': 1.0, 'diagnosed': 1.0, 'brain': 1.0, 'injury': 1.0, 'doctor': 1.0, 'told': 1.0, 'stay': 1, 'gets': 1, 'stayed': 1, '3': 1, 'days': 1, 'leaving': 1}\n",
            "{'Peter': 1.0, 'Elizabeth': 1.0, 'took': 1.0, 'taxi': 1.0, 'attend': 1.0, 'night': 1.0, 'party': 1.0, 'city': 1.0, 'collapsed': 1.0, 'rushed': 1.0, 'hospital': 1.0, 'diagnosed': 1.0, 'brain': 1.0, 'injury': 1.0, 'doctor': 1.0, 'told': 1.0, 'stay': 1.0, 'gets': 1, 'stayed': 1, '3': 1, 'days': 1, 'leaving': 1}\n",
            "{'Peter': 1.0, 'Elizabeth': 1.0, 'took': 1.0, 'taxi': 1.0, 'attend': 1.0, 'night': 1.0, 'party': 1.0, 'city': 1.0, 'collapsed': 1.0, 'rushed': 1.0, 'hospital': 1.0, 'diagnosed': 1.0, 'brain': 1.0, 'injury': 1.0, 'doctor': 1.0, 'told': 1.0, 'stay': 1.0, 'gets': 1.0, 'stayed': 1, '3': 1, 'days': 1, 'leaving': 1}\n",
            "{'Peter': 1.0, 'Elizabeth': 1.0, 'took': 1.0, 'taxi': 1.0, 'attend': 1.0, 'night': 1.0, 'party': 1.0, 'city': 1.0, 'collapsed': 1.0, 'rushed': 1.0, 'hospital': 1.0, 'diagnosed': 1.0, 'brain': 1.0, 'injury': 1.0, 'doctor': 1.0, 'told': 1.0, 'stay': 1.0, 'gets': 1.0, 'stayed': 1.0, '3': 1, 'days': 1, 'leaving': 1}\n",
            "{'Peter': 1.0, 'Elizabeth': 1.0, 'took': 1.0, 'taxi': 1.0, 'attend': 1.0, 'night': 1.0, 'party': 1.0, 'city': 1.0, 'collapsed': 1.0, 'rushed': 1.0, 'hospital': 1.0, 'diagnosed': 1.0, 'brain': 1.0, 'injury': 1.0, 'doctor': 1.0, 'told': 1.0, 'stay': 1.0, 'gets': 1.0, 'stayed': 1.0, '3': 1.0, 'days': 1, 'leaving': 1}\n",
            "{'Peter': 1.0, 'Elizabeth': 1.0, 'took': 1.0, 'taxi': 1.0, 'attend': 1.0, 'night': 1.0, 'party': 1.0, 'city': 1.0, 'collapsed': 1.0, 'rushed': 1.0, 'hospital': 1.0, 'diagnosed': 1.0, 'brain': 1.0, 'injury': 1.0, 'doctor': 1.0, 'told': 1.0, 'stay': 1.0, 'gets': 1.0, 'stayed': 1.0, '3': 1.0, 'days': 1.0, 'leaving': 1}\n",
            "{'Peter': 1.0, 'Elizabeth': 1.0, 'took': 1.0, 'taxi': 1.0, 'attend': 1.0, 'night': 1.0, 'party': 1.0, 'city': 1.0, 'collapsed': 1.0, 'rushed': 1.0, 'hospital': 1.0, 'diagnosed': 1.0, 'brain': 1.0, 'injury': 1.0, 'doctor': 1.0, 'told': 1.0, 'stay': 1.0, 'gets': 1.0, 'stayed': 1.0, '3': 1.0, 'days': 1.0, 'leaving': 1.0}\n",
            "[Peter and Elizabeth took a taxi to attend the night party in the city., While in the party, Elizabeth collapsed and was rushed to the hospital., Since she was diagnosed with a brain injury, the doctor told Peter to stay besides her until she gets well., Therefore, Peter stayed with her at the hospital for 3 days without leaving.]\n"
          ]
        }
      ]
    },
    {
      "cell_type": "code",
      "source": [
        "sentence_scores = {}\n",
        "for sent in sentence_tokens:\n",
        "   for word in sent:\n",
        "      if word.text.lower() in word_frequencies.keys():\n",
        "         if sent not in sentence_scores.keys():\n",
        "            sentence_scores[sent] = word_frequencies[word.text.lower()]\n",
        "         else:\n",
        "              sentence_scores[sent] += word_frequencies[word.text.lower()]\n",
        "              sentence_scores"
      ],
      "metadata": {
        "id": "-PgOFQXsVW4_"
      },
      "execution_count": null,
      "outputs": []
    },
    {
      "cell_type": "code",
      "source": [
        "from heapq import nlargest\n",
        "select_length = int(len(sentence_tokens)*0.3)\n",
        "select_length\n",
        "summary = nlargest(select_length, sentence_scores, key = sentence_scores.get)\n",
        "summary\n",
        "final_summary = [word.text for word in summary]\n",
        "summary =  ''.join(final_summary)"
      ],
      "metadata": {
        "id": "3W9BNtISVdmN"
      },
      "execution_count": null,
      "outputs": []
    },
    {
      "cell_type": "code",
      "source": [
        "final_summary"
      ],
      "metadata": {
        "colab": {
          "base_uri": "https://localhost:8080/"
        },
        "id": "_41dpSflDN1M",
        "outputId": "d5abcf79-d071-4528-9245-717ff4851d74"
      },
      "execution_count": null,
      "outputs": [
        {
          "output_type": "execute_result",
          "data": {
            "text/plain": [
              "['Peter and Elizabeth took a taxi to attend the night party in the city.']"
            ]
          },
          "metadata": {},
          "execution_count": 17
        }
      ]
    }
  ]
}